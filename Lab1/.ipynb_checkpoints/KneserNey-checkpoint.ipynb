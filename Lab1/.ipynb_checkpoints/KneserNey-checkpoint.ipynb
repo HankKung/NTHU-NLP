{
 "cells": [
  {
   "cell_type": "code",
   "execution_count": 57,
   "metadata": {},
   "outputs": [
    {
     "name": "stderr",
     "output_type": "stream",
     "text": [
      "/anaconda3/lib/python3.6/importlib/_bootstrap.py:219: RuntimeWarning: numpy.dtype size changed, may indicate binary incompatibility. Expected 96, got 88\n",
      "  return f(*args, **kwds)\n"
     ]
    }
   ],
   "source": [
    "import os\n",
    "import pandas as pd\n",
    "from nltk.tokenize import sent_tokenize\n",
    "from nltk.tokenize import word_tokenize\n",
    "import math\n",
    "from collections import Counter, defaultdict\n",
    "d = 0.75"
   ]
  },
  {
   "cell_type": "code",
   "execution_count": 70,
   "metadata": {},
   "outputs": [],
   "source": [
    "def read_data(PATH):\n",
    "    \n",
    "    all_data = []\n",
    "    for path, dirs, files in os.walk(PATH):\n",
    "        temp = []\n",
    "        for filename in files:\n",
    "            filePath = path + '/' + filename\n",
    "            #print(filePath)\n",
    "            f = open( filePath, 'r').read()\n",
    "            temp.append(parse_article(f))\n",
    "\n",
    "        if temp:\n",
    "            all_data.append(temp)\n",
    "    return all_data"
   ]
  },
  {
   "cell_type": "code",
   "execution_count": 10,
   "metadata": {},
   "outputs": [],
   "source": [
    "def parse_article(f):\n",
    "#     TODO: tokenize sentence and transform to lower and padding\n",
    "    article = sent_tokenize(f)\n",
    "    for sen in article:\n",
    "        sen = sen.lower()\n",
    "    return article\n"
   ]
  },
  {
   "cell_type": "code",
   "execution_count": 79,
   "metadata": {},
   "outputs": [],
   "source": [
    "def kn_model(c_w2, c_w, c_w1, num_type):\n",
    "#     TODO: Bigram() + Pcontination()\n",
    "# KN( wi | wi−1 ) = log( Bigram + λ(wi−1)* PCONTINUATION)\n",
    "# Bigram : max( C(wi-1, wi) -d )/∑C(wi−1, w*), 0 )\n",
    "# PCONTINUATION: max( ∑type(w* ,wi)- d )/∑type(wj-1 ,wj) , 0 )\n",
    "# λ(wi−1) = (d / ∑C(wi−1, w*))*∑type(wi−1 ,w*)\n",
    "    \n",
    "    bigram = max(c_w2-d, 0)/c_w1\n",
    "    p_con = 0\n",
    "    lam_wi1 =  (d/c_w1)*num_of_type\n",
    "    kn = math.log(bigram + lam_wi1*p_con)\n",
    "    return kn"
   ]
  },
  {
   "cell_type": "code",
   "execution_count": 61,
   "metadata": {},
   "outputs": [],
   "source": [
    "def counter(l):\n",
    "    return Counter(l)"
   ]
  },
  {
   "cell_type": "code",
   "execution_count": 14,
   "metadata": {},
   "outputs": [
    {
     "ename": "SyntaxError",
     "evalue": "unexpected EOF while parsing (<ipython-input-14-c1b6d3244071>, line 2)",
     "output_type": "error",
     "traceback": [
      "\u001b[0;36m  File \u001b[0;32m\"<ipython-input-14-c1b6d3244071>\"\u001b[0;36m, line \u001b[0;32m2\u001b[0m\n\u001b[0;31m    #     TODO: get label that has highest scores\u001b[0m\n\u001b[0m                                                 ^\u001b[0m\n\u001b[0;31mSyntaxError\u001b[0m\u001b[0;31m:\u001b[0m unexpected EOF while parsing\n"
     ]
    }
   ],
   "source": [
    "def score_article():\n",
    "#     TODO: get label that has highest scores"
   ]
  },
  {
   "cell_type": "code",
   "execution_count": 78,
   "metadata": {},
   "outputs": [
    {
     "name": "stdout",
     "output_type": "stream",
     "text": [
      "load and preprocess training data\n",
      "start training\n",
      "class: 0\n",
      "<class 'collections.Counter'>\n",
      "class: 1\n",
      "<class 'collections.Counter'>\n",
      "class: 2\n",
      "<class 'collections.Counter'>\n",
      "class: 3\n",
      "<class 'collections.Counter'>\n",
      "class: 4\n",
      "<class 'collections.Counter'>\n",
      "class: 5\n",
      "<class 'collections.Counter'>\n",
      "class: 6\n",
      "<class 'collections.Counter'>\n",
      "class: 7\n",
      "<class 'collections.Counter'>\n",
      "class: 8\n",
      "<class 'collections.Counter'>\n",
      "class: 9\n",
      "<class 'collections.Counter'>\n",
      "class: 10\n",
      "<class 'collections.Counter'>\n",
      "class: 11\n",
      "<class 'collections.Counter'>\n",
      "total class12\n",
      "start testing\n"
     ]
    },
    {
     "ename": "ZeroDivisionError",
     "evalue": "division by zero",
     "output_type": "error",
     "traceback": [
      "\u001b[0;31m---------------------------------------------------------------------------\u001b[0m",
      "\u001b[0;31mZeroDivisionError\u001b[0m                         Traceback (most recent call last)",
      "\u001b[0;32m<ipython-input-78-03e2308c0357>\u001b[0m in \u001b[0;36m<module>\u001b[0;34m()\u001b[0m\n\u001b[1;32m     44\u001b[0m \u001b[0;34m\u001b[0m\u001b[0m\n\u001b[1;32m     45\u001b[0m \u001b[0;34m\u001b[0m\u001b[0m\n\u001b[0;32m---> 46\u001b[0;31m     \u001b[0mprint\u001b[0m\u001b[0;34m(\u001b[0m\u001b[0;34m'Accuracy: '\u001b[0m\u001b[0;34m,\u001b[0m \u001b[0mtotal_hit\u001b[0m\u001b[0;34m/\u001b[0m\u001b[0mtest_data_len\u001b[0m\u001b[0;34m)\u001b[0m\u001b[0;34m\u001b[0m\u001b[0m\n\u001b[0m\u001b[1;32m     47\u001b[0m \u001b[0;34m\u001b[0m\u001b[0m\n",
      "\u001b[0;31mZeroDivisionError\u001b[0m: division by zero"
     ]
    }
   ],
   "source": [
    "if __name__ == '__main__':\n",
    "    \n",
    "    \n",
    "    print(\"load and preprocess training data\")\n",
    "    train_PATH = '/Users/7ckung/Desktop/reuters/r_train'\n",
    "    \n",
    "    all_training_data = read_data(train_PATH)\n",
    "    \n",
    "    print('start training')\n",
    "#     TODO: build kn model\n",
    "    uni = []\n",
    "    label_num = 0\n",
    "    for label in all_training_data:\n",
    "        print('class: ' + str(label_num))\n",
    "        uni.append(Counter())\n",
    "        for file in label:\n",
    "            for line in file:\n",
    "                temp_line = word_tokenize(line)\n",
    "                temp_count = counter(temp_line)\n",
    "                uni[label_num] += temp_count\n",
    "        \n",
    "        \n",
    "        print(type(uni[label_num]))\n",
    "\n",
    "        uni_t = pd.DataFrame(dict(uni[label_num]), index=[0])\n",
    "        uni_t = uni_t.stack()\n",
    "        #print(uni_t)\n",
    "\n",
    "        uni_t.to_csv('unigram_'+str(label_num)+'.csv',index=False,sep=',')\n",
    "        #print(uni[label_num])\n",
    "        \n",
    "        \n",
    "        label_num +=1\n",
    "        \n",
    "        \n",
    "    print('total class' + str(label_num))\n",
    "        \n",
    "    \n",
    "    print(\"start testing\")\n",
    "    test_PATH = './r_test'\n",
    "    all_testing_data = read_data(test_PATH)\n",
    "    test_data_len = sum(len(t) for t in all_testing_data)\n",
    "    total_hit = 0\n",
    "\n",
    "\n",
    "    print('Accuracy: ', total_hit/test_data_len)\n",
    "    "
   ]
  },
  {
   "cell_type": "code",
   "execution_count": null,
   "metadata": {},
   "outputs": [],
   "source": []
  }
 ],
 "metadata": {
  "kernelspec": {
   "display_name": "Python 3",
   "language": "python",
   "name": "python3"
  },
  "language_info": {
   "codemirror_mode": {
    "name": "ipython",
    "version": 3
   },
   "file_extension": ".py",
   "mimetype": "text/x-python",
   "name": "python",
   "nbconvert_exporter": "python",
   "pygments_lexer": "ipython3",
   "version": "3.6.4"
  }
 },
 "nbformat": 4,
 "nbformat_minor": 2
}
