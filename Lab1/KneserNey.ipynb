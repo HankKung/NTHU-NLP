{
 "cells": [
  {
   "cell_type": "code",
   "execution_count": 88,
   "metadata": {},
   "outputs": [],
   "source": [
    "import os\n",
    "import pandas as pd\n",
    "from nltk.tokenize import sent_tokenize\n",
    "from nltk.tokenize import word_tokenize\n",
    "import math\n",
    "from collections import Counter, defaultdict\n",
    "d = 0.75\n"
   ]
  },
  {
   "cell_type": "code",
   "execution_count": 4,
   "metadata": {},
   "outputs": [],
   "source": [
    "def read_data(PATH):\n",
    "    \n",
    "    all_data = []\n",
    "    for path, dirs, files in os.walk(PATH):\n",
    "        temp = []\n",
    "        for filename in files:\n",
    "            filePath = path + '/' + filename\n",
    "            #print(filePath)\n",
    "            f = open( filePath, 'r').read()\n",
    "            temp.append(parse_article(f))\n",
    "\n",
    "        if temp:\n",
    "            all_data.append(temp)\n",
    "    return all_data"
   ]
  },
  {
   "cell_type": "code",
   "execution_count": 5,
   "metadata": {},
   "outputs": [],
   "source": [
    "def parse_article(f):\n",
    "#     TODO: tokenize sentence and transform to lower and padding\n",
    "    article = sent_tokenize(f)\n",
    "    for sen in article:\n",
    "        sen = sen.lower()\n",
    "    return article\n"
   ]
  },
  {
   "cell_type": "code",
   "execution_count": 107,
   "metadata": {},
   "outputs": [],
   "source": [
    "def kn_model(bi ,label, str_1, str_2):\n",
    "#     TODO: Bigram() + Pcontination()\n",
    "# KN( wi | wi−1 ) = log( Bigram + λ(wi−1)* PCONTINUATION)\n",
    "# Bigram : max( C(wi-1, wi) -d )/∑C(wi−1, w*), 0 )\n",
    "# PCONTINUATION: max( ∑type(w* ,wi)- d )/∑type(wj-1 ,wj) , 0 )\n",
    "# λ(wi−1) = (d / ∑C(wi−1, w*))*∑type(wi−1 ,w*)\n",
    "    bigram_word = str_1 +' '+str_2\n",
    "    bigram_word_num = bi[label][bigram_word]\n",
    "    temp_str1 = str_1+' '\n",
    "    temp_len = len(temp_str1)\n",
    "    prefix = 0\n",
    "    prefix__type_num = 0\n",
    "    for key in bi[label]:\n",
    "        if key[:temp_len-1] == temp_str1:\n",
    "            prefix += bi[label][key]\n",
    "            prefix__type_num += 1\n",
    "    \n",
    "    bigram = max(bigram_word, 0)/prefix\n",
    "    \n",
    "    temp_str2 = ' '+ str_2\n",
    "    temp_len2 = len(temp_str2)\n",
    "    type_of_postfix = 0\n",
    "    for key in bi[label]:\n",
    "        if key[-temp_len2:-1] == temp_str2:\n",
    "            type_of_postfix+=1\n",
    "    \n",
    "    p_con = max((type_of_postfix-d)/len(bi[label]), 0)\n",
    "    lam = (d/prefix)*prefix__type_num\n",
    "    kn = math.log(bigram + lam*p_con)\n",
    "    return kn"
   ]
  },
  {
   "cell_type": "code",
   "execution_count": 79,
   "metadata": {},
   "outputs": [],
   "source": [
    "def padding(l):\n",
    "    l.insert(0,'<s>')\n",
    "    l.append(\"<\\s>\")\n",
    "    return l"
   ]
  },
  {
   "cell_type": "code",
   "execution_count": 66,
   "metadata": {},
   "outputs": [],
   "source": [
    "def counter(l):\n",
    "    return Counter(l)"
   ]
  },
  {
   "cell_type": "code",
   "execution_count": 67,
   "metadata": {},
   "outputs": [],
   "source": [
    "def count_2gram(l):\n",
    "    temp = []\n",
    "    for idx, val in enumerate(l):\n",
    "        if idx+1 < len(l):\n",
    "            temp.append(val +' '+ l[idx+1])\n",
    "    return Counter(temp)"
   ]
  },
  {
   "cell_type": "code",
   "execution_count": 86,
   "metadata": {},
   "outputs": [],
   "source": [
    "def score_article():\n",
    "#     TODO: get label that has highest scores\n",
    "    return\n"
   ]
  },
  {
   "cell_type": "code",
   "execution_count": 101,
   "metadata": {},
   "outputs": [],
   "source": [
    "def sentence_p(l):\n",
    "    lenth = len(l)\n",
    "    p = 0 \n",
    "    for i in range(lenth-1):\n",
    "        p += (p_bi, kn_model(l[i]), l[i+1])\n",
    "        \n",
    "    return p"
   ]
  },
  {
   "cell_type": "code",
   "execution_count": null,
   "metadata": {},
   "outputs": [],
   "source": [
    "if __name__ == '__main__':\n",
    "    \n",
    "    \n",
    "    print(\"load and preprocess training data\")\n",
    "    train_PATH = '/Users/7ckung/Desktop/reuters/r_train'\n",
    "    \n",
    "    all_training_data = read_data(train_PATH)\n",
    "    \n",
    "    print('start training')\n",
    "#     TODO: build kn model\n",
    "    uni = []\n",
    "    bi = []\n",
    "    label_num = 0\n",
    "    for label in all_training_data:\n",
    "        print('class: ' + str(label_num))\n",
    "        uni.append(Counter())\n",
    "        bi.append(Counter())\n",
    "        for file in label:\n",
    "            for line in file:\n",
    "                temp_line = word_tokenize(line)\n",
    "                padding(temp_line)\n",
    "                temp_count = counter(temp_line)\n",
    "                temp_bi_count = count_2gram(temp_line)\n",
    "                uni[label_num] += temp_count\n",
    "                bi[label_num] += temp_bi_count\n",
    "                \n",
    "\n",
    "        #uni_t = pd.DataFrame(dict(uni[label_num]), index=[0])\n",
    "        #uni_t = uni_t.stack()\n",
    "        #print(uni_t)\n",
    "\n",
    "        #uni_t.to_csv('unigram_'+str(label_num)+'.csv',index=False,sep=',')\n",
    "        #print(uni[label_num])\n",
    "        \n",
    "        \n",
    "        label_num +=1\n",
    "    \n",
    "    uni = defaultdict(int, uni)\n",
    "    bi = defaultdict(int, bi)\n",
    "        \n",
    "        \n",
    "    \n",
    "    print(\"start testing\")\n",
    "    test_PATH = './r_test'\n",
    "    all_testing_data = read_data(test_PATH)\n",
    "    test_data_len = sum(len(t) for t in all_testing_data)\n",
    "    total_hit = 0\n",
    "\n",
    "\n",
    "    #print('Accuracy: ', total_hit/test_data_len)\n",
    "    "
   ]
  },
  {
   "cell_type": "code",
   "execution_count": null,
   "metadata": {},
   "outputs": [],
   "source": []
  },
  {
   "cell_type": "code",
   "execution_count": null,
   "metadata": {},
   "outputs": [],
   "source": []
  },
  {
   "cell_type": "code",
   "execution_count": null,
   "metadata": {},
   "outputs": [],
   "source": []
  },
  {
   "cell_type": "code",
   "execution_count": null,
   "metadata": {},
   "outputs": [],
   "source": []
  },
  {
   "cell_type": "code",
   "execution_count": 106,
   "metadata": {},
   "outputs": [
    {
     "name": "stdout",
     "output_type": "stream",
     "text": [
      "7\n"
     ]
    }
   ],
   "source": [
    "for key in bi[0]:\n",
    "    print(bi[0][key])\n",
    "    break"
   ]
  },
  {
   "cell_type": "code",
   "execution_count": null,
   "metadata": {},
   "outputs": [],
   "source": []
  }
 ],
 "metadata": {
  "kernelspec": {
   "display_name": "Python 3",
   "language": "python",
   "name": "python3"
  },
  "language_info": {
   "codemirror_mode": {
    "name": "ipython",
    "version": 3
   },
   "file_extension": ".py",
   "mimetype": "text/x-python",
   "name": "python",
   "nbconvert_exporter": "python",
   "pygments_lexer": "ipython3",
   "version": "3.6.4"
  }
 },
 "nbformat": 4,
 "nbformat_minor": 2
}
