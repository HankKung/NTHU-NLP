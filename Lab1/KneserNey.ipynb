{
 "cells": [
  {
   "cell_type": "code",
   "execution_count": null,
   "metadata": {},
   "outputs": [],
   "source": [
    "def read_data(PATH):\n",
    "    all_data = []\n",
    "    for path, dirs, files in os.walk(PATH):\n",
    "        temp = []\n",
    "        for filename in files:\n",
    "            filePath = path + '/' + filename\n",
    "            f = open( filePath, 'r' ).read()\n",
    "            temp.append(parse_article(f))\n",
    "\n",
    "        if temp:\n",
    "            all_data.append(temp)\n",
    "    return all_data"
   ]
  },
  {
   "cell_type": "code",
   "execution_count": null,
   "metadata": {},
   "outputs": [],
   "source": [
    "def parse_article():\n",
    "#     TODO: tokenize sentence and transform to lower and padding\n",
    "\n"
   ]
  },
  {
   "cell_type": "code",
   "execution_count": null,
   "metadata": {},
   "outputs": [],
   "source": [
    "def kn_model():\n",
    "#     TODO: Bigram() + Pcontination()"
   ]
  },
  {
   "cell_type": "code",
   "execution_count": null,
   "metadata": {},
   "outputs": [],
   "source": [
    "def score_article():\n",
    "#     TODO: get label that has highest scores"
   ]
  },
  {
   "cell_type": "code",
   "execution_count": null,
   "metadata": {},
   "outputs": [],
   "source": [
    "if __name__ == '__main__':\n",
    "    \n",
    "    \n",
    "    print(\"load and preprocess training data\")\n",
    "    train_PATH = './r_train/'\n",
    "    all_training_data = read_data(train_PATH)\n",
    "    \n",
    "    print('start training')\n",
    "#     TODO: build kn model\n",
    "\n",
    "        \n",
    "    \n",
    "    print(\"start testing\")\n",
    "    test_PATH = './r_test'\n",
    "    all_testing_data = read_data(test_PATH)\n",
    "    test_data_len = sum(len(t) for t in all_testing_data)\n",
    "    total_hit = 0\n",
    "\n",
    "\n",
    "    print('Accuracy: ', total_hit/test_data_len)\n",
    "    "
   ]
  }
 ],
 "metadata": {
  "kernelspec": {
   "display_name": "Python 3",
   "language": "python",
   "name": "python3"
  },
  "language_info": {
   "codemirror_mode": {
    "name": "ipython",
    "version": 3
   },
   "file_extension": ".py",
   "mimetype": "text/x-python",
   "name": "python",
   "nbconvert_exporter": "python",
   "pygments_lexer": "ipython3",
   "version": "3.6.4"
  }
 },
 "nbformat": 4,
 "nbformat_minor": 2
}
