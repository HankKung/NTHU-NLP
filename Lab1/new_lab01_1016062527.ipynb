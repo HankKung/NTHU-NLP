{
 "cells": [
  {
   "cell_type": "code",
   "execution_count": 1,
   "metadata": {},
   "outputs": [],
   "source": [
    "import os\n",
    "import sys\n",
    "import pandas as pd\n",
    "from nltk.tokenize import sent_tokenize\n",
    "from nltk.tokenize import word_tokenize\n",
    "import math\n",
    "from collections import Counter, defaultdict\n",
    "d = 0.75"
   ]
  },
  {
   "cell_type": "code",
   "execution_count": 2,
   "metadata": {},
   "outputs": [],
   "source": [
    "def read_data(PATH):\n",
    "    \n",
    "    all_data = []\n",
    "    for path, dirs, files in os.walk(PATH):\n",
    "        temp = []\n",
    "        \n",
    "        for filename in files:\n",
    "            filePath = path + '/' + filename\n",
    "            #print(filePath)\n",
    "            f = open( filePath, 'r').read()\n",
    "            temp.append(parse_article(f))\n",
    "\n",
    "        if temp:\n",
    "            all_data.append(temp)\n",
    "    return all_data"
   ]
  },
  {
   "cell_type": "code",
   "execution_count": 3,
   "metadata": {},
   "outputs": [],
   "source": [
    "def parse_article(f):\n",
    "#     TODO: tokenize sentence and transform to lower and padding\n",
    "    article = sent_tokenize(f)\n",
    "    for sen in article:\n",
    "        sen = sen.lower()\n",
    "    return article\n"
   ]
  },
  {
   "cell_type": "code",
   "execution_count": 4,
   "metadata": {},
   "outputs": [],
   "source": [
    "def kn_model(uni, bi ,label, str1, str2):\n",
    "#     TODO: Bigram() + Pcontination()\n",
    "# KN( wi | wi−1 ) = log( Bigram + λ(wi−1)* PCONTINUATION)\n",
    "# Bigram : max( C(wi-1, wi) -d )/∑C(wi−1, w*), 0 )\n",
    "# PCONTINUATION: max( ∑type(w* ,wi)- d )/∑type(wj-1 ,wj) , 0 )\n",
    "# λ(wi−1) = (d / ∑C(wi−1, w*))*∑type(wi−1 ,w*)\n",
    "    temp_str1 = str1.lower()\n",
    "    temp_str2 = str2.lower()\n",
    "\n",
    "    bigram_word = temp_str1 +' '+temp_str2\n",
    "    bigram_word_num = bi[label][bigram_word]\n",
    "    temp_len = len(temp_str1)\n",
    "    prefix = 0\n",
    "    prefix__type_num = 0\n",
    "    for key in bi[label]:\n",
    "        if key[0:temp_len] == temp_str1:\n",
    "            prefix += bi[label][key]\n",
    "            prefix__type_num += 1\n",
    "    \n",
    "    bigram=0\n",
    "    if prefix!=0:\n",
    "        bigram = max(bigram_word_num-d, 0)/prefix\n",
    "\n",
    "    \n",
    "    temp_len2 = len(temp_str2)\n",
    "    type_of_postfix = 0\n",
    "    \n",
    "    if uni[label][temp_str2]!=0:\n",
    "        for key in bi[label]:\n",
    "            if key[-temp_len2:] == temp_str2:\n",
    "                type_of_postfix +=1\n",
    "    \n",
    "    p_con = max((type_of_postfix-d)/len(bi[label]), 0)\n",
    "\n",
    "    lam=0\n",
    "    if prefix != 0:\n",
    "        lam = (d/prefix)*prefix__type_num\n",
    "\n",
    "    kn=-10\n",
    "    if bigram==0 and lam*p_con==0:\n",
    "        kn=-10\n",
    "    else:\n",
    "        kn = math.log(bigram + (lam*p_con))\n",
    "    return round(kn,5)"
   ]
  },
  {
   "cell_type": "code",
   "execution_count": 5,
   "metadata": {},
   "outputs": [],
   "source": [
    "def padding(l):\n",
    "    for w in l:\n",
    "        w = w.lower()\n",
    "    l.insert(0,'<s>')\n",
    "    l.append(\"<\\s>\")\n",
    "    return l"
   ]
  },
  {
   "cell_type": "code",
   "execution_count": 6,
   "metadata": {},
   "outputs": [],
   "source": [
    "def counter(l):\n",
    "    return Counter(l)"
   ]
  },
  {
   "cell_type": "code",
   "execution_count": 7,
   "metadata": {},
   "outputs": [],
   "source": [
    "def count_2gram(l):\n",
    "    temp = []\n",
    "    for idx, val in enumerate(l):\n",
    "        if idx+1 < len(l):\n",
    "            temp.append(val +' '+ l[idx+1])\n",
    "    return Counter(temp)"
   ]
  },
  {
   "cell_type": "code",
   "execution_count": 8,
   "metadata": {},
   "outputs": [],
   "source": [
    "def score_article():\n",
    "#     TODO: get label that has highest scores\n",
    "    return\n"
   ]
  },
  {
   "cell_type": "code",
   "execution_count": 9,
   "metadata": {},
   "outputs": [],
   "source": [
    "def progress(count, total, status=''):\n",
    "    bar_len = 60\n",
    "    filled_len = int(round(bar_len * count / float(total)))\n",
    "\n",
    "    percents = round(100.0 * count / float(total), 1)\n",
    "    bar = '=' * filled_len + '-' * (bar_len - filled_len)\n",
    "\n",
    "    sys.stdout.write('[%s] %s%s ...%s \\r' % (bar, percents, '%', status))\n",
    "    sys.stdout.flush()"
   ]
  },
  {
   "cell_type": "code",
   "execution_count": 25,
   "metadata": {},
   "outputs": [
    {
     "name": "stdout",
     "output_type": "stream",
     "text": [
      "load and preprocess training data\n",
      "start training\n",
      "[============================================================] 100.0% ... \r"
     ]
    }
   ],
   "source": [
    "if __name__ == '__main__':\n",
    "    \n",
    "    \n",
    "    print(\"load and preprocess training data\")\n",
    "    train_PATH = '/Users/7ckung/Downloads/reuters/r_train'\n",
    "    \n",
    "    all_training_data = read_data(train_PATH)\n",
    "    \n",
    "    print('start training')\n",
    "#     TODO: build kn model\n",
    "    uni = []\n",
    "    bi = []\n",
    "    label_num = 0\n",
    "    for label in all_training_data:\n",
    "        uni.append(Counter())\n",
    "        bi.append(Counter())\n",
    "        for file in label:\n",
    "            for line in file:\n",
    "                temp_line = word_tokenize(line)\n",
    "                temp_line = padding(temp_line)\n",
    "                uni[label_num] += Counter(temp_line)\n",
    "                temp_bi_count = count_2gram(temp_line)\n",
    "                bi[label_num] += temp_bi_count\n",
    "        label_num +=1        \n",
    "    uni_g = []       \n",
    "    bi_g = []\n",
    "    for i in range(12):\n",
    "        uni_g.append(defaultdict(int,uni[i]))\n",
    "        bi_g.append(defaultdict(int, bi[i]))\n",
    "        \n",
    "    kn = []\n",
    "    label_num = 0\n",
    "    c=0\n",
    "    train_data_len = sum(len(t) for t in all_training_data)\n",
    "    for label in all_training_data:\n",
    "        kn.append({})\n",
    "        for file in label:\n",
    "            for line in file:\n",
    "                temp_line = word_tokenize(line)\n",
    "                temp = padding(temp_line)\n",
    "                for i in range(len(temp)-1):\n",
    "                    bi_str = temp[i]+ ' ' + temp[i+1]\n",
    "                    if bi_str not in kn[label_num]:\n",
    "                        kn[label_num][bi_str] = kn_model(uni_g, bi_g, label_num, temp[i], temp[i+1])\n",
    "            c+=1\n",
    "            progress(c,train_data_len)\n",
    "        label_num +=1    "
   ]
  },
  {
   "cell_type": "code",
   "execution_count": 29,
   "metadata": {},
   "outputs": [],
   "source": [
    "import json\n",
    "with open('kn.json', 'w') as outfile:\n",
    "    json.dump(kn, outfile)"
   ]
  },
  {
   "cell_type": "code",
   "execution_count": 35,
   "metadata": {},
   "outputs": [],
   "source": [
    "kn = json.loads(open('kn.json').read())"
   ]
  },
  {
   "cell_type": "code",
   "execution_count": 36,
   "metadata": {},
   "outputs": [
    {
     "name": "stdout",
     "output_type": "stream",
     "text": [
      "start testing\n",
      "testing category_1-------------------------------------------] 7.3% ... \n",
      "testing category_2-------------------------------------------] 10.5% ... \n",
      "testing category_3-------------------------------------------] 18.6% ... \n",
      "testing category_4-------------------------------------------] 22.7% ... \n",
      "testing category_5=====--------------------------------------] 36.6% ... \n",
      "testing category_6==========---------------------------------] 45.8% ... \n",
      "testing category_7================---------------------------] 54.5% ... \n",
      "testing category_8===================------------------------] 59.3% ... \n",
      "testing category_9=====================----------------------] 64.1% ... \n",
      "testing category_10=========================-----------------] 71.3% ... \n",
      "testing category_11==================================--------] 85.9% ... \n",
      "testing category_12==========================================] 100.0% ... \n",
      "{'0': 15, '1': 0, '2': 73, '3': 4, '4': 90, '5': 99, '6': 138, '7': 13, '8': 5, '9': 3, '10': 127, '11': 116}\n",
      "Accuracy:  0.6061493411420205\n"
     ]
    }
   ],
   "source": [
    "print(\"start testing\")\n",
    "test_PATH = '/Users/7ckung/Downloads/reuters/r_test'\n",
    "all_testing_data = read_data(test_PATH)\n",
    "test_data_len = sum(len(t) for t in all_testing_data)\n",
    "total_hit = 0\n",
    "label_seq = 0\n",
    "dict_count = {'0':0,'1':0,'2':0,'3':0,'4':0,'5':0,'6':0,'7':0,'8':0,'9':0,'10':0,'11':0}\n",
    "c=0\n",
    "for label in all_testing_data:\n",
    "    for file in label:\n",
    "        predict = [0.00000]*12                    \n",
    "        result = 0\n",
    "        #\n",
    "#         for model_label in range(12):\n",
    "#             predict_file = 0\n",
    "        for line in file:\n",
    "            temp_line = word_tokenize(line)\n",
    "            temp = padding(temp_line)\n",
    "            for i in range(len(temp)-1):\n",
    "                for model_label in range(12):\n",
    "                    temp_str = temp[i]+ ' ' + temp[i+1]\n",
    "                    if temp_str not in kn[model_label]:\n",
    "                        predict[model_label] = predict[model_label] + -10\n",
    "                    else:\n",
    "                        predict[model_label] = predict[model_label] + kn[model_label][temp_str]\n",
    "        result = predict.index(max(predict))\n",
    "#         print(predict)\n",
    "        if result == label_seq:\n",
    "            total_hit +=1\n",
    "        dict_count[str(result)]+=1\n",
    "        c+=1\n",
    "#         ite+=1 \n",
    "        progress(c,test_data_len)\n",
    "#         if ite ==2:\n",
    "#             break\n",
    "    label_seq +=1\n",
    "    print('testing category_'+str(label_seq))\n",
    "print(dict_count)\n",
    "print('Accuracy: ', total_hit/test_data_len)"
   ]
  },
  {
   "cell_type": "code",
   "execution_count": null,
   "metadata": {},
   "outputs": [],
   "source": []
  }
 ],
 "metadata": {
  "kernelspec": {
   "display_name": "Python 3",
   "language": "python",
   "name": "python3"
  },
  "language_info": {
   "codemirror_mode": {
    "name": "ipython",
    "version": 3
   },
   "file_extension": ".py",
   "mimetype": "text/x-python",
   "name": "python",
   "nbconvert_exporter": "python",
   "pygments_lexer": "ipython3",
   "version": "3.6.4"
  }
 },
 "nbformat": 4,
 "nbformat_minor": 2
}
