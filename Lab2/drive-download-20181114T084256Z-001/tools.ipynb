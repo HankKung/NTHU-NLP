{
 "cells": [
  {
   "cell_type": "markdown",
   "metadata": {},
   "source": [
    "# Gensim Word2Vec model"
   ]
  },
  {
   "cell_type": "code",
   "execution_count": 1,
   "metadata": {},
   "outputs": [],
   "source": [
    "# pip install gensim\n",
    "from gensim.models import KeyedVectors"
   ]
  },
  {
   "cell_type": "code",
   "execution_count": 4,
   "metadata": {},
   "outputs": [],
   "source": [
    "\"\"\"\n",
    "匯入模型\n",
    "\"\"\"\n",
    "\n",
    "model_path = '/Users/7ckung/Desktop/Lab2/udn.word2vec.bin'\n",
    "model = KeyedVectors.load_word2vec_format(model_path, binary=True)"
   ]
  },
  {
   "cell_type": "code",
   "execution_count": 5,
   "metadata": {},
   "outputs": [
    {
     "name": "stdout",
     "output_type": "stream",
     "text": [
      "向量 [ 0.02327934 -0.65793884 -0.03768937 -1.1638273   1.6105967   0.6043699\n",
      "  0.5106945  -0.63299817 -0.2289081  -1.6909274   1.3894656  -0.03594382\n",
      " -0.47578108  3.3975809   0.64018947  1.9823982  -0.45785025 -0.23828451\n",
      " -0.21405503 -0.366078   -0.68388647  0.07367153  0.95655215  0.09752374\n",
      " -1.464769   -1.1177462  -0.35903895 -1.6067475   1.2328017   0.8502304\n",
      "  1.9107614   0.6072692  -0.6356009  -1.0769744  -0.7507427  -2.5253897\n",
      " -0.37652513  0.24535407 -0.18936345  0.00630152  0.8422782  -1.2516378\n",
      " -0.9580427   0.07149021 -0.6284775   0.1505693   0.15634787 -0.24795054\n",
      " -0.98792017 -0.55180657  0.82859135  1.00086     0.35320967  1.0685676\n",
      "  0.56589377 -1.8843246  -1.0527266   1.295615    1.1879029   1.8138591\n",
      "  1.7544373  -0.12591775  0.86561614 -0.4104092   0.28837055 -1.0045767\n",
      "  0.37791434 -0.39515194  0.29561612  0.27365708  1.9842596   0.9698365\n",
      "  1.5891879  -1.1224862  -0.51627165  1.5593615   0.08380274 -0.9494111\n",
      "  0.00796246 -1.9020876  -1.0441707   0.1643316  -1.7080177   0.9722112\n",
      " -1.205142   -1.0288779   0.0452266   1.0736513  -0.8978095   1.1852238\n",
      "  0.39509428  1.0121183   0.5871202  -0.7873843   2.3257887   1.6412221\n",
      " -0.9851154   0.11793181 -0.9602436  -1.4617128   0.167504   -1.5431567\n",
      "  0.8710705  -0.7037744  -1.4129422  -0.03714125 -0.2665529   0.48199928\n",
      " -1.6193842  -0.0704956   0.5377035  -0.43249685  0.4496322   0.12849776\n",
      "  0.9174028   1.0865885   1.0873936  -1.3829669  -1.1190237  -1.7563988\n",
      " -0.8330793   0.6989959  -1.290923    0.27578333 -0.09733697  1.3866041\n",
      "  0.8557848  -0.0540537   1.857077   -1.9383008  -1.2867374   0.28359774\n",
      "  0.85713136  0.6737339   0.24789007  0.53136796  0.5708727  -0.810559\n",
      " -0.45817864 -2.0920358   0.29789686 -0.09089063  0.603626    1.0672976\n",
      " -1.8841732   2.1873527   0.15088758 -0.18324986 -0.08132262  1.057013\n",
      " -1.0788845   0.53147763  0.51852643  0.00971625  0.79942006  0.8551907\n",
      "  0.03792517 -1.753871   -0.14730226  1.4004965   0.13058026  0.2570594\n",
      " -0.14704208  0.07682776  0.66962415 -0.7384657  -2.3588245   0.30209392\n",
      "  0.20140523 -0.9366208  -0.9159663  -0.5476636   0.22717679 -0.47858572\n",
      " -0.29327402  0.854463   -0.2919113  -0.49870628 -0.1764455  -0.26582313\n",
      "  0.02046324 -0.36316836 -0.57761735  0.18764393  0.8443052  -1.8190893\n",
      " -0.02822096 -0.9512627  -0.6079091  -0.9241337  -0.3451239  -1.3182533\n",
      " -1.3116103  -0.20346454 -0.11654813  1.4980234  -1.2565647  -1.4405742\n",
      "  0.23882185 -0.26930574]\n",
      "向量長度： 200\n"
     ]
    }
   ],
   "source": [
    "\"\"\"\n",
    "抓取 WORD 向量: model[WORD] (訓練資料時設定為200維度)\n",
    "\"\"\"\n",
    "\n",
    "print(\"向量\", model['哈士奇'])\n",
    "print(\"向量長度：\", len(model['哈士奇']))"
   ]
  },
  {
   "cell_type": "code",
   "execution_count": 6,
   "metadata": {},
   "outputs": [
    {
     "name": "stdout",
     "output_type": "stream",
     "text": [
      "\"哈士奇\"在訓練資料中\n",
      "\"巴拉巴拉拉拉\"不在訓練資料中\n"
     ]
    },
    {
     "name": "stderr",
     "output_type": "stream",
     "text": [
      "/anaconda3/lib/python3.6/site-packages/ipykernel_launcher.py:5: DeprecationWarning: Call to deprecated `wv` (Attribute will be removed in 4.0.0, use self instead).\n",
      "  \"\"\"\n"
     ]
    }
   ],
   "source": [
    "\"\"\"\n",
    "取得 model 中的訓練資料: model.wv\n",
    "\"\"\"\n",
    "\n",
    "word_in_model = model.wv\n",
    "\n",
    "if '哈士奇' in word_in_model:\n",
    "    print('\\\"哈士奇\\\"在訓練資料中')\n",
    "else:\n",
    "    print('\\\"哈士奇\\\"不在訓練資料中')\n",
    "\n",
    "\n",
    "\n",
    "if '巴拉巴拉拉拉' in word_in_model:\n",
    "    print('\\\"巴拉巴拉拉拉\\\"在訓練資料中')\n",
    "else:\n",
    "    print('\\\"巴拉巴拉拉拉\\\"不在訓練資料中')\n"
   ]
  },
  {
   "cell_type": "code",
   "execution_count": 20,
   "metadata": {},
   "outputs": [
    {
     "data": {
      "text/plain": [
       "<gensim.models.keyedvectors.Word2VecKeyedVectors at 0x10db151d0>"
      ]
     },
     "execution_count": 20,
     "metadata": {},
     "output_type": "execute_result"
    }
   ],
   "source": [
    "word_in_model"
   ]
  },
  {
   "cell_type": "code",
   "execution_count": 7,
   "metadata": {},
   "outputs": [
    {
     "name": "stderr",
     "output_type": "stream",
     "text": [
      "/anaconda3/lib/python3.6/site-packages/gensim/matutils.py:737: FutureWarning: Conversion of the second argument of issubdtype from `int` to `np.signedinteger` is deprecated. In future, it will be treated as `np.int64 == np.dtype(int).type`.\n",
      "  if np.issubdtype(vec.dtype, np.int):\n"
     ]
    },
    {
     "data": {
      "text/plain": [
       "[('米格魯', 0.8543187975883484),\n",
       " ('雪納瑞', 0.8468919396400452),\n",
       " ('拉布拉多', 0.8429234027862549),\n",
       " ('柴犬', 0.8132694363594055),\n",
       " ('哈士奇犬', 0.8115018606185913),\n",
       " ('吉娃娃', 0.7989805936813354),\n",
       " ('拉布拉多犬', 0.7935569882392883),\n",
       " ('約克夏', 0.7933487892150879),\n",
       " ('博美', 0.7674193382263184),\n",
       " ('波斯貓', 0.7539619207382202)]"
      ]
     },
     "execution_count": 7,
     "metadata": {},
     "output_type": "execute_result"
    }
   ],
   "source": [
    "\"\"\"\n",
    "和 WORD 最相似的的前 NUM 名: model.most_similar(WORD, topn = NUM )\n",
    "\"\"\"\n",
    "\n",
    "model.most_similar('哈士奇', topn = 10)"
   ]
  },
  {
   "cell_type": "code",
   "execution_count": 26,
   "metadata": {},
   "outputs": [
    {
     "name": "stdout",
     "output_type": "stream",
     "text": [
      "哈士奇 和 狗的相似度： 0.70523876\n",
      "哈士奇 和 人的相似度： 0.5965491\n"
     ]
    },
    {
     "name": "stderr",
     "output_type": "stream",
     "text": [
      "/anaconda3/lib/python3.6/site-packages/gensim/matutils.py:737: FutureWarning: Conversion of the second argument of issubdtype from `int` to `np.signedinteger` is deprecated. In future, it will be treated as `np.int64 == np.dtype(int).type`.\n",
      "  if np.issubdtype(vec.dtype, np.int):\n"
     ]
    }
   ],
   "source": [
    "\"\"\"\n",
    "抓取 WORD_1 和 WORD_2 之間的相似度: model.similarity(WORD_1, WORD_2 )\n",
    "\"\"\"\n",
    "\n",
    "print('哈士奇 和 狗的相似度：', model.similarity('哈士奇', '狗'))\n",
    "print('哈士奇 和 人的相似度：', model.similarity('house', 'home'))"
   ]
  },
  {
   "cell_type": "markdown",
   "metadata": {},
   "source": [
    "# Jieba 結巴斷詞 "
   ]
  },
  {
   "cell_type": "code",
   "execution_count": null,
   "metadata": {},
   "outputs": [],
   "source": [
    "# pip install git+https://github.com/APCLab/jieba-tw.git\n",
    "import jieba"
   ]
  },
  {
   "cell_type": "code",
   "execution_count": null,
   "metadata": {
    "scrolled": true
   },
   "outputs": [],
   "source": [
    "\"\"\"\n",
    "將句子斷詞: jieba.cut(句子)\n",
    "詳細說明: https://github.com/APCLab/jieba-tw\n",
    "\"\"\"\n",
    "\n",
    "sent_1 = \"今天天氣超級無敵好！\"\n",
    "list(jieba.cut(sent_1))"
   ]
  },
  {
   "cell_type": "code",
   "execution_count": null,
   "metadata": {},
   "outputs": [],
   "source": [
    "\"\"\"\n",
    "可用來擷取 Head Word \n",
    "中文為 Head final langugage ---> 重要的訊息通常放在後面\n",
    "可用 Jieba 斷詞，找出詞中最重要的訊息\n",
    "\"\"\"\n",
    "\n",
    "sent_2 = '帶著眼鏡的人'\n",
    "cut_sent = list(jieba.cut(sent_2))\n",
    "print('「', sent_2, '」', '句子中，最重要的詞語:', cut_sent[-1])\n"
   ]
  },
  {
   "cell_type": "markdown",
   "metadata": {},
   "source": [
    "# WordNet API"
   ]
  },
  {
   "cell_type": "code",
   "execution_count": 9,
   "metadata": {},
   "outputs": [],
   "source": [
    "from nltk.corpus import wordnet as wn"
   ]
  },
  {
   "cell_type": "code",
   "execution_count": 10,
   "metadata": {},
   "outputs": [
    {
     "name": "stdout",
     "output_type": "stream",
     "text": [
      "synset: Synset('plant.n.01')\n",
      "synset 定義: buildings for carrying on industrial labor\n",
      "同一 sense 的 synset: [Lemma('plant.n.01.plant'), Lemma('plant.n.01.works'), Lemma('plant.n.01.industrial_plant')]\n",
      "synset ID: 3956922\n",
      "\n",
      "synset: Synset('plant.n.02')\n",
      "synset 定義: (botany) a living organism lacking the power of locomotion\n",
      "同一 sense 的 synset: [Lemma('plant.n.02.plant'), Lemma('plant.n.02.flora'), Lemma('plant.n.02.plant_life')]\n",
      "synset ID: 17222\n",
      "\n",
      "synset: Synset('plant.n.03')\n",
      "synset 定義: an actor situated in the audience whose acting is rehearsed but seems spontaneous to the audience\n",
      "同一 sense 的 synset: [Lemma('plant.n.03.plant')]\n",
      "synset ID: 10438470\n",
      "\n",
      "synset: Synset('plant.n.04')\n",
      "synset 定義: something planted secretly for discovery by another\n",
      "同一 sense 的 synset: [Lemma('plant.n.04.plant')]\n",
      "synset ID: 5906080\n",
      "\n"
     ]
    }
   ],
   "source": [
    "\"\"\"Synset 的 使用方法\"\"\"\n",
    "\n",
    "for synset in wn.synsets('plant', pos = wn.NOUN):\n",
    "    \n",
    "    print('synset:', synset)\n",
    "    print('synset 定義:', synset.definition())\n",
    "    print('同一 sense 的 synset:', synset.lemmas())\n",
    "    print('synset ID:', synset.offset())\n",
    "    print()\n",
    "    "
   ]
  },
  {
   "cell_type": "code",
   "execution_count": 13,
   "metadata": {},
   "outputs": [
    {
     "name": "stdout",
     "output_type": "stream",
     "text": [
      "ID 為 17222 的synset: Synset('plant.n.02')\n"
     ]
    }
   ],
   "source": [
    "\"\"\" \n",
    "使用 ID 取得 synset :  wn.synset_from_pos_and_offset( POS, ID )\n",
    "\"\"\"\n",
    "\n",
    "print('ID 為 17222 的synset:', wn.synset_from_pos_and_offset( 'n' , 17222))\n",
    "\n"
   ]
  },
  {
   "cell_type": "code",
   "execution_count": null,
   "metadata": {},
   "outputs": [],
   "source": []
  }
 ],
 "metadata": {
  "kernelspec": {
   "display_name": "Python 3",
   "language": "python",
   "name": "python3"
  },
  "language_info": {
   "codemirror_mode": {
    "name": "ipython",
    "version": 3
   },
   "file_extension": ".py",
   "mimetype": "text/x-python",
   "name": "python",
   "nbconvert_exporter": "python",
   "pygments_lexer": "ipython3",
   "version": "3.6.4"
  }
 },
 "nbformat": 4,
 "nbformat_minor": 2
}
