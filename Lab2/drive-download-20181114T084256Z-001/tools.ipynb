{
 "cells": [
  {
   "cell_type": "markdown",
   "metadata": {},
   "source": [
    "# Gensim Word2Vec model"
   ]
  },
  {
   "cell_type": "code",
   "execution_count": 23,
   "metadata": {},
   "outputs": [],
   "source": [
    "# pip install gensim\n",
    "from gensim.models import KeyedVectors"
   ]
  },
  {
   "cell_type": "code",
   "execution_count": 6,
   "metadata": {},
   "outputs": [],
   "source": [
    "\"\"\"\n",
    "匯入模型\n",
    "\"\"\"\n",
    "\n",
    "model_path = '/Users/7ckung/Desktop/Lab2/udn.word2vec.bin'\n",
    "model = KeyedVectors.load_word2vec_format(model_path, binary=True)"
   ]
  },
  {
   "cell_type": "code",
   "execution_count": 9,
   "metadata": {},
   "outputs": [
    {
     "name": "stdout",
     "output_type": "stream",
     "text": [
      "向量 [-0.05157424 -0.6039365   0.34225097 -0.44842315  1.1217698   0.12702045\n",
      "  0.10025376 -0.00662665  0.414075   -0.8124178   0.9131446  -0.5833472\n",
      " -0.15730125  2.050717    0.37841424  0.85019666 -0.12249903 -0.6385778\n",
      "  0.48871902 -0.19873108 -1.0846764   0.02961992  1.0758456  -0.32681593\n",
      " -1.6015079  -1.1033813   0.6708978   0.14124839  0.7633722   0.3818017\n",
      "  0.8237905   1.0219419  -0.2552291  -0.5646613   0.14718921 -1.8423293\n",
      " -0.9230373   0.01885206 -0.0626817  -0.35109955  0.6097955  -0.26607287\n",
      "  0.16679238 -0.42668256 -0.7043569  -0.15342194  0.6245186  -0.7089944\n",
      " -0.52664447  0.24026494  0.60714626  0.42393276 -0.18247105  0.40075132\n",
      "  0.05192846 -1.6963967   0.14884955  0.814186    1.129672    1.3350213\n",
      "  1.6869864  -0.40168086  0.35927638 -0.37670007 -0.3009563  -1.2239811\n",
      " -0.31695113 -0.22520322  0.07007907  0.29619807  1.2527969   0.7872669\n",
      "  0.62341803 -0.7499373  -0.44103014  0.21914622  0.33550033 -0.9950287\n",
      " -0.18691668 -0.93574536 -0.7866487  -0.48368144 -0.8655936   1.483414\n",
      " -0.41830385 -0.8513105  -0.53663546  0.20093979  0.30548707  1.9097474\n",
      "  0.8531613  -0.2763609   0.04396129 -0.9113608   2.0983412   1.1072978\n",
      " -0.42174122  0.21845472  0.2932182  -0.33705682  0.3374469  -1.6996254\n",
      "  0.5974144  -0.9362756  -1.0237455   0.8675186  -0.6541827  -0.5224672\n",
      " -0.83270603 -0.14108486  0.5136416   0.08769973 -0.80110043  0.41013935\n",
      "  0.67199045  0.8579864   0.05198042 -0.52644104 -0.65577334 -1.5121422\n",
      " -0.47921297 -0.072678   -0.9750968   0.56277794  0.22191083  0.97948134\n",
      "  0.35048765  0.24531601  1.149693   -2.1344614  -0.9775254   0.3277538\n",
      " -0.0124284   0.11911595  0.07169439  0.5379684   0.7133056  -0.49746224\n",
      " -0.16269208 -1.3451543   0.08129403  0.35091382  0.9353625  -0.03868685\n",
      " -1.4382119   1.096358    0.56136245 -0.66005784 -0.10062256  1.2145052\n",
      " -0.7453541   0.35951594  0.42594284 -0.08627445 -0.44792688  0.17389157\n",
      "  0.6204847  -1.1434201  -0.6283906   1.1718304   0.5271846   0.09133146\n",
      " -0.10716514  0.5913019   0.30821115 -1.1036187  -1.8115088  -0.40487522\n",
      " -0.3235158  -0.08328276 -0.6248163  -0.03259626 -0.03137083  0.2718121\n",
      "  0.42930284  0.7573409   0.6716932  -0.04237196  0.45345286 -0.12125742\n",
      " -0.40068415 -0.13850361 -0.23723416 -0.22122927 -0.12246335 -1.2621522\n",
      "  0.18520159 -0.2631722  -0.41598985 -0.12588993  0.13166493 -1.045095\n",
      " -1.294795    0.3030808   0.49546874  1.187409   -0.668463   -0.33095336\n",
      " -0.5537073  -0.2628731 ]\n",
      "向量長度： 200\n"
     ]
    }
   ],
   "source": [
    "\"\"\"\n",
    "抓取 WORD 向量: model[WORD] (訓練資料時設定為200維度)\n",
    "\"\"\"\n",
    "\n",
    "print(\"向量\", model['柴犬'])\n",
    "print(\"向量長度：\", len(model['哈士奇']))"
   ]
  },
  {
   "cell_type": "code",
   "execution_count": 10,
   "metadata": {},
   "outputs": [
    {
     "name": "stdout",
     "output_type": "stream",
     "text": [
      "\"哈士奇\"在訓練資料中\n",
      "\"巴拉巴拉拉拉\"不在訓練資料中\n"
     ]
    },
    {
     "name": "stderr",
     "output_type": "stream",
     "text": [
      "/anaconda3/lib/python3.6/site-packages/ipykernel_launcher.py:5: DeprecationWarning: Call to deprecated `wv` (Attribute will be removed in 4.0.0, use self instead).\n",
      "  \"\"\"\n"
     ]
    }
   ],
   "source": [
    "\"\"\"\n",
    "取得 model 中的訓練資料: model.wv\n",
    "\"\"\"\n",
    "\n",
    "word_in_model = model.wv\n",
    "\n",
    "if '哈士奇' in word_in_model:\n",
    "    print('\\\"哈士奇\\\"在訓練資料中')\n",
    "else:\n",
    "    print('\\\"哈士奇\\\"不在訓練資料中')\n",
    "\n",
    "\n",
    "\n",
    "if '巴拉巴拉拉拉' in word_in_model:\n",
    "    print('\\\"巴拉巴拉拉拉\\\"在訓練資料中')\n",
    "else:\n",
    "    print('\\\"巴拉巴拉拉拉\\\"不在訓練資料中')\n"
   ]
  },
  {
   "cell_type": "code",
   "execution_count": 11,
   "metadata": {},
   "outputs": [
    {
     "name": "stderr",
     "output_type": "stream",
     "text": [
      "/anaconda3/lib/python3.6/site-packages/gensim/matutils.py:737: FutureWarning: Conversion of the second argument of issubdtype from `int` to `np.signedinteger` is deprecated. In future, it will be treated as `np.int64 == np.dtype(int).type`.\n",
      "  if np.issubdtype(vec.dtype, np.int):\n"
     ]
    },
    {
     "data": {
      "text/plain": [
       "[('米格魯', 0.8543187379837036),\n",
       " ('雪納瑞', 0.8468919992446899),\n",
       " ('拉布拉多', 0.8429234027862549),\n",
       " ('柴犬', 0.8132694959640503),\n",
       " ('哈士奇犬', 0.8115018606185913),\n",
       " ('吉娃娃', 0.7989806532859802),\n",
       " ('拉布拉多犬', 0.7935569286346436),\n",
       " ('約克夏', 0.7933488488197327),\n",
       " ('博美', 0.7674193382263184),\n",
       " ('波斯貓', 0.753961980342865)]"
      ]
     },
     "execution_count": 11,
     "metadata": {},
     "output_type": "execute_result"
    }
   ],
   "source": [
    "\"\"\"\n",
    "和 WORD 最相似的的前 NUM 名: model.most_similar(WORD, topn = NUM )\n",
    "\"\"\"\n",
    "\n",
    "model.most_similar('哈士奇', topn = 10)"
   ]
  },
  {
   "cell_type": "code",
   "execution_count": 12,
   "metadata": {},
   "outputs": [
    {
     "name": "stdout",
     "output_type": "stream",
     "text": [
      "哈士奇 和 狗的相似度： 0.70523876\n",
      "哈士奇 和 人的相似度： 0.24763167\n"
     ]
    },
    {
     "name": "stderr",
     "output_type": "stream",
     "text": [
      "/anaconda3/lib/python3.6/site-packages/gensim/matutils.py:737: FutureWarning: Conversion of the second argument of issubdtype from `int` to `np.signedinteger` is deprecated. In future, it will be treated as `np.int64 == np.dtype(int).type`.\n",
      "  if np.issubdtype(vec.dtype, np.int):\n"
     ]
    }
   ],
   "source": [
    "\"\"\"\n",
    "抓取 WORD_1 和 WORD_2 之間的相似度: model.similarity(WORD_1, WORD_2 )\n",
    "\"\"\"\n",
    "\n",
    "print('哈士奇 和 狗的相似度：', model.similarity('哈士奇', '狗'))\n",
    "print('哈士奇 和 人的相似度：', model.similarity('哈士奇', '人'))"
   ]
  },
  {
   "cell_type": "markdown",
   "metadata": {},
   "source": [
    "# Jieba 結巴斷詞 "
   ]
  },
  {
   "cell_type": "code",
   "execution_count": 14,
   "metadata": {},
   "outputs": [],
   "source": [
    "# pip install git+https://github.com/APCLab/jieba-tw.git\n",
    "import jieba"
   ]
  },
  {
   "cell_type": "code",
   "execution_count": 17,
   "metadata": {
    "scrolled": true
   },
   "outputs": [
    {
     "data": {
      "text/plain": [
       "['今天', '天氣', '超級', '無敵', '好', '！']"
      ]
     },
     "execution_count": 17,
     "metadata": {},
     "output_type": "execute_result"
    }
   ],
   "source": [
    "\"\"\"\n",
    "將句子斷詞: jieba.cut(句子)\n",
    "詳細說明: https://github.com/APCLab/jieba-tw\n",
    "\"\"\"\n",
    "\n",
    "sent_1 = \"今天天氣超級無敵好！\"\n",
    "list(jieba.cut(sent_1))"
   ]
  },
  {
   "cell_type": "code",
   "execution_count": 18,
   "metadata": {},
   "outputs": [
    {
     "name": "stdout",
     "output_type": "stream",
     "text": [
      "「 帶著眼鏡的人 」 句子中，最重要的詞語: 人\n"
     ]
    }
   ],
   "source": [
    "\"\"\"\n",
    "可用來擷取 Head Word \n",
    "中文為 Head final langugage ---> 重要的訊息通常放在後面\n",
    "可用 Jieba 斷詞，找出詞中最重要的訊息\n",
    "\"\"\"\n",
    "\n",
    "sent_2 = '帶著眼鏡的人'\n",
    "cut_sent = list(jieba.cut(sent_2))\n",
    "print('「', sent_2, '」', '句子中，最重要的詞語:', cut_sent[-1])\n"
   ]
  },
  {
   "cell_type": "markdown",
   "metadata": {},
   "source": [
    "# WordNet API"
   ]
  },
  {
   "cell_type": "code",
   "execution_count": 25,
   "metadata": {},
   "outputs": [],
   "source": [
    "from nltk.corpus import wordnet as wn"
   ]
  },
  {
   "cell_type": "code",
   "execution_count": 26,
   "metadata": {},
   "outputs": [
    {
     "name": "stdout",
     "output_type": "stream",
     "text": [
      "synset: Synset('plant.n.01')\n",
      "synset 定義: buildings for carrying on industrial labor\n",
      "同一 sense 的 synset: [Lemma('plant.n.01.plant'), Lemma('plant.n.01.works'), Lemma('plant.n.01.industrial_plant')]\n",
      "synset ID: 3956922\n",
      "\n",
      "synset: Synset('plant.n.02')\n",
      "synset 定義: (botany) a living organism lacking the power of locomotion\n",
      "同一 sense 的 synset: [Lemma('plant.n.02.plant'), Lemma('plant.n.02.flora'), Lemma('plant.n.02.plant_life')]\n",
      "synset ID: 17222\n",
      "\n",
      "synset: Synset('plant.n.03')\n",
      "synset 定義: an actor situated in the audience whose acting is rehearsed but seems spontaneous to the audience\n",
      "同一 sense 的 synset: [Lemma('plant.n.03.plant')]\n",
      "synset ID: 10438470\n",
      "\n",
      "synset: Synset('plant.n.04')\n",
      "synset 定義: something planted secretly for discovery by another\n",
      "同一 sense 的 synset: [Lemma('plant.n.04.plant')]\n",
      "synset ID: 5906080\n",
      "\n"
     ]
    }
   ],
   "source": [
    "\"\"\"Synset 的 使用方法\"\"\"\n",
    "\n",
    "for synset in wn.synsets('plant', pos = wn.NOUN):\n",
    "    \n",
    "    print('synset:', synset)\n",
    "    print('synset 定義:', synset.definition())\n",
    "    print('同一 sense 的 synset:', synset.lemmas())\n",
    "    print('synset ID:', synset.offset())\n",
    "    print()\n",
    "    "
   ]
  },
  {
   "cell_type": "code",
   "execution_count": 27,
   "metadata": {},
   "outputs": [
    {
     "name": "stdout",
     "output_type": "stream",
     "text": [
      "ID 為 17222 的synset: Synset('plant.n.02')\n"
     ]
    }
   ],
   "source": [
    "\"\"\" \n",
    "使用 ID 取得 synset :  wn.synset_from_pos_and_offset( POS, ID )\n",
    "\"\"\"\n",
    "\n",
    "print('ID 為 17222 的synset:', wn.synset_from_pos_and_offset( 'n' , 17222))\n",
    "\n"
   ]
  },
  {
   "cell_type": "code",
   "execution_count": null,
   "metadata": {},
   "outputs": [],
   "source": []
  }
 ],
 "metadata": {
  "kernelspec": {
   "display_name": "Python 3",
   "language": "python",
   "name": "python3"
  },
  "language_info": {
   "codemirror_mode": {
    "name": "ipython",
    "version": 3
   },
   "file_extension": ".py",
   "mimetype": "text/x-python",
   "name": "python",
   "nbconvert_exporter": "python",
   "pygments_lexer": "ipython3",
   "version": "3.6.4"
  }
 },
 "nbformat": 4,
 "nbformat_minor": 2
}
