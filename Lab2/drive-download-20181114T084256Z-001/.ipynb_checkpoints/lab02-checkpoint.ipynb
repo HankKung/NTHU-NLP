{
 "cells": [
  {
   "cell_type": "code",
   "execution_count": 1,
   "metadata": {},
   "outputs": [],
   "source": [
    "# pip install wikipedia\n",
    "# nltk.download(\"wordnet\")\n",
    "import os\n",
    "import wikipedia\n",
    "import nltk\n",
    "from collections import defaultdict\n",
    "from nltk.corpus import wordnet as wn\n",
    "# downlaod wordnet 3.0\n",
    "#nltk.download(\"wordnet\")\n",
    "from gensim.models import KeyedVectors"
   ]
  },
  {
   "cell_type": "code",
   "execution_count": 2,
   "metadata": {},
   "outputs": [],
   "source": [
    "def progress(count, total, status=''):\n",
    "    bar_len = 60\n",
    "    filled_len = int(round(bar_len * count / float(total)))\n",
    "\n",
    "    percents = round(100.0 * count / float(total), 1)\n",
    "    bar = '=' * filled_len + '-' * (bar_len - filled_len)\n",
    "\n",
    "    sys.stdout.write('[%s] %s%s ...%s \\r' % (bar, percents, '%', status))\n",
    "    sys.stdout.flush()"
   ]
  },
  {
   "cell_type": "code",
   "execution_count": 3,
   "metadata": {},
   "outputs": [
    {
     "name": "stderr",
     "output_type": "stream",
     "text": [
      "/anaconda3/lib/python3.6/site-packages/ipykernel_launcher.py:3: DeprecationWarning: Call to deprecated `wv` (Attribute will be removed in 4.0.0, use self instead).\n",
      "  This is separate from the ipykernel package so we can avoid doing imports until\n"
     ]
    }
   ],
   "source": [
    "model_path = '/Users/7ckung/Desktop/Lab2/udn.word2vec.bin'\n",
    "model = KeyedVectors.load_word2vec_format(model_path, binary=True)\n",
    "word_in_model = model.wv"
   ]
  },
  {
   "cell_type": "markdown",
   "metadata": {},
   "source": [
    "# 9 words 54 synsets to find wiki pages, use pos=\"n\" only."
   ]
  },
  {
   "cell_type": "code",
   "execution_count": 4,
   "metadata": {},
   "outputs": [
    {
     "name": "stdout",
     "output_type": "stream",
     "text": [
      "The amount of target synsets :54\n"
     ]
    }
   ],
   "source": [
    "# Load synsets\n",
    "target_synsets = []\n",
    "for line in open(\"/Users/7ckung/Desktop/Lab2/lab02_input.txt\"):\n",
    "    word, synset, offset = line.strip().split(\"\\t\")\n",
    "    target_synsets.append((word, wn.synset_from_pos_and_offset('n', int(offset))))\n",
    "            \n",
    "print(\"The amount of target synsets :%d\" %(len(target_synsets)))"
   ]
  },
  {
   "cell_type": "code",
   "execution_count": 5,
   "metadata": {},
   "outputs": [],
   "source": [
    "wn_ec ={}\n",
    "for line in open(\"/Users/7ckung/Desktop/Lab2/wn.ec.noun.txt\"):\n",
    "    offset = line.strip().split(\"\\t\")[1]\n",
    "    ch = line.strip().split(\"\\t\")[2]\n",
    "    if offset not in wn_ec:\n",
    "        wn_ec[offset] = ch"
   ]
  },
  {
   "cell_type": "code",
   "execution_count": 6,
   "metadata": {},
   "outputs": [],
   "source": [
    "ec_link ={}\n",
    "id_c ={}\n",
    "for line in open(\"/Users/7ckung/Desktop/Lab2/ec.link.txt\"):\n",
    "    page_id = en = line.strip().split(\"\\t\")[0]\n",
    "    en = line.strip().split(\"\\t\")[1]\n",
    "    ch = line.strip().split(\"\\t\")[2].replace('->', '')\n",
    "    ec_link[str(ch)] = str(en)\n",
    "    id_c[str(ch)] = int(page_id)"
   ]
  },
  {
   "cell_type": "code",
   "execution_count": 7,
   "metadata": {},
   "outputs": [
    {
     "name": "stdout",
     "output_type": "stream",
     "text": [
      "https://en.wikipedia.org/wiki/Factory\n",
      "https://en.wikipedia.org/wiki/Plant\n",
      "can not find the link of  ['混在觀眾里的演員']\n"
     ]
    },
    {
     "name": "stderr",
     "output_type": "stream",
     "text": [
      "/anaconda3/lib/python3.6/site-packages/gensim/matutils.py:737: FutureWarning: Conversion of the second argument of issubdtype from `int` to `np.signedinteger` is deprecated. In future, it will be treated as `np.int64 == np.dtype(int).type`.\n",
      "  if np.issubdtype(vec.dtype, np.int):\n"
     ]
    },
    {
     "name": "stdout",
     "output_type": "stream",
     "text": [
      "https://en.wikipedia.org/wiki/Loaded_language\n",
      "https://en.wikipedia.org/wiki/Taste\n",
      "https://en.wikipedia.org/wiki/Taste_(sociology)\n",
      "https://en.wikipedia.org/wiki/Taste_(sociology)\n",
      "https://en.wikipedia.org/wiki/Mouthfeel\n",
      "https://en.wikipedia.org/wiki/Mouthfeel\n",
      "https://en.wikipedia.org/wiki/Taste\n",
      "https://en.wikipedia.org/wiki/Odor\n",
      "https://en.wikipedia.org/wiki/Astronomical_object\n",
      "can not find the link of  ['傑出人物']\n",
      "https://en.wikipedia.org/wiki/Sleeping_Beauty\n",
      "https://en.wikipedia.org/wiki/Supporting_character\n",
      "can not find the link of  ['星狀物']\n",
      "https://en.wikipedia.org/wiki/Giant_star\n",
      "https://en.wikipedia.org/wiki/Asterisk\n",
      "https://en.wikipedia.org/wiki/Rivet\n",
      "https://en.wikipedia.org/wiki/Bow_(music)\n",
      "https://en.wikipedia.org/wiki/Bow_(ship)\n",
      "can not find the link of  ['弓', '弓箭']\n",
      "can not find the link of  ['弓形物']\n",
      "https://en.wikipedia.org/wiki/Bowing\n",
      "https://en.wikipedia.org/wiki/Bowing\n",
      "https://en.wikipedia.org/wiki/Chiffon_(fabric)\n",
      "https://en.wikipedia.org/wiki/Bow_(music)\n",
      "can not find the link of  ['划槳式的武裝大船']\n",
      "can not find the link of  ['划槳式的木船']\n",
      "can not find the link of  ['機上廚房']\n",
      "can not find the link of  ['船上廚房']\n",
      "https://en.wikipedia.org/wiki/Sentence_(linguistics)\n",
      "https://en.wikipedia.org/wiki/Sanctions_(law)\n",
      "https://en.wikipedia.org/wiki/Life_imprisonment\n",
      "https://en.wikipedia.org/wiki/Ardently_Love\n",
      "can not find the link of  ['利害關係']\n",
      "https://en.wikipedia.org/wiki/Taste_(sociology)\n",
      "https://en.wikipedia.org/wiki/Interest\n",
      "https://en.wikipedia.org/wiki/Share_(finance)\n",
      "https://en.wikipedia.org/wiki/Shareholder\n",
      "https://en.wikipedia.org/wiki/Hobby\n",
      "https://en.wikipedia.org/wiki/Problem_solving\n",
      "https://en.wikipedia.org/wiki/Principal_balance\n",
      "https://en.wikipedia.org/wiki/Problem_solving\n",
      "can not find the link of  ['發行之印刷物']\n",
      "https://en.wikipedia.org/wiki/Publishing\n",
      "https://en.wikipedia.org/wiki/Profit_(economics)\n",
      "https://en.wikipedia.org/wiki/Utility\n",
      "https://en.wikipedia.org/wiki/Ancestor\n",
      "https://en.wikipedia.org/wiki/Import\n",
      "https://en.wikipedia.org/wiki/Publishing\n",
      "https://en.wikipedia.org/wiki/Promise\n",
      "https://en.wikipedia.org/wiki/Duty\n",
      "https://en.wikipedia.org/wiki/Tax_rate\n"
     ]
    },
    {
     "data": {
      "text/plain": [
       "43"
      ]
     },
     "execution_count": 7,
     "metadata": {},
     "output_type": "execute_result"
    }
   ],
   "source": [
    "c=0\n",
    "lenth=0\n",
    "for sense in target_synsets:\n",
    "    offset = sense[1].offset()\n",
    "    ch = wn_ec[str(offset)]\n",
    "    ch_l = []\n",
    "    if '|' in ch:\n",
    "        ch_l = ch.split('|')\n",
    "    else:\n",
    "        ch_l.append(ch)\n",
    "    find = False\n",
    "    in_dict = False\n",
    "    for ch_item in ch_l:\n",
    "        if ch_item in ec_link:\n",
    "            in_dict = True\n",
    "            temp = str(ch_item).replace('_','')\n",
    "            temp = temp.replace('(', '')\n",
    "            temp = temp.replace(')', '')\n",
    "            try:\n",
    "                page = wikipedia.page(ec_link[temp])\n",
    "            except:\n",
    "                find = False\n",
    "\n",
    "            else:\n",
    "                print(page.url)\n",
    "                c+=1\n",
    "                find = True\n",
    "                break\n",
    "    \n",
    "    if in_dict and find:\n",
    "        continue\n",
    "    \n",
    "    if in_dict and not find:\n",
    "        for ch_item in ch_l:\n",
    "            if ch_item in ec_link:\n",
    "                in_dict = True\n",
    "                temp = str(ch_item).replace('_','')\n",
    "                temp = temp.replace('(', '')\n",
    "                temp = temp.replace(')', '')\n",
    "                try:\n",
    "                    page = wikipedia.page(pageid= id_c[temp])\n",
    "                except:\n",
    "                    find = False\n",
    "                else:\n",
    "                    print(page.url)\n",
    "                    c+=1\n",
    "                    find = True\n",
    "                    break\n",
    "                \n",
    "                      \n",
    "    test_b=True\n",
    "    if not in_dict or not find:\n",
    "        p=0\n",
    "        good_ch=''\n",
    "        temp=''\n",
    "        for ch_item in ch_l:\n",
    "            temp = str(ch_item).replace('_','')\n",
    "            temp = temp.replace('(', '')\n",
    "            temp = temp.replace(')', '')\n",
    "            if temp in word_in_model:\n",
    "                for key in ec_link:\n",
    "                    if key in word_in_model:\n",
    "                        temp_p = model.similarity(key, temp)\n",
    "                        if temp_p>p:\n",
    "                            p = temp_p\n",
    "                            good_ch = key\n",
    "        try:\n",
    "            page = wikipedia.page(ec_link[good_ch])                 \n",
    "        except:\n",
    "            test_b = False\n",
    "        else:\n",
    "            print(page.url)\n",
    "            c+=1\n",
    "        \n",
    "        if not test_b:\n",
    "            try:\n",
    "                page = wikipedia.page(pageid= id_c[good_ch])\n",
    "            except:\n",
    "                print('can not find the link of ', ch_l)\n",
    "\n",
    "            else:\n",
    "                print(page.url)\n",
    "                c+=1\n",
    "    \n",
    "c"
   ]
  },
  {
   "cell_type": "code",
   "execution_count": null,
   "metadata": {},
   "outputs": [],
   "source": []
  }
 ],
 "metadata": {
  "kernelspec": {
   "display_name": "Python 3",
   "language": "python",
   "name": "python3"
  },
  "language_info": {
   "codemirror_mode": {
    "name": "ipython",
    "version": 3
   },
   "file_extension": ".py",
   "mimetype": "text/x-python",
   "name": "python",
   "nbconvert_exporter": "python",
   "pygments_lexer": "ipython3",
   "version": "3.6.4"
  }
 },
 "nbformat": 4,
 "nbformat_minor": 2
}
